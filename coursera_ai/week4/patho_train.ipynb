{
 "cells": [
  {
   "cell_type": "markdown",
   "metadata": {},
   "source": [
    "Transfer Learnning Example Notebook using ResNet50 with the ImageNet weights.\n",
    "\n",
    "@author Maximilian Dargatz\n",
    "\n",
    "@author Romeo Kienzler\n",
    "\n",
    "Data used in this notebook:\n",
    "\n",
    "http://www.andrewjanowczyk.com/deep-learning/\n",
    "\n",
    "http://www.andrewjanowczyk.com/use-case-6-invasive-ductal-carcinoma-idc-segmentation/"
   ]
  },
  {
   "cell_type": "code",
   "execution_count": null,
   "metadata": {},
   "outputs": [],
   "source": [
    "!if [ -f IDC_regular_ps50_idx5.zip ]; then echo \"images already downloaded\"; else wget http://andrewjanowczyk.com/wp-static/IDC_regular_ps50_idx5.zip; fi\n",
    "!if [ -d images ]; then echo \"images folder already created\"; else echo \"creating images folder and unzipping \"; mkdir images;  unzip IDC_regular_ps50_idx5.zip -d images/ ; fi"
   ]
  },
  {
   "cell_type": "code",
   "execution_count": null,
   "metadata": {},
   "outputs": [],
   "source": [
    "%%bash\n",
    "mkdir imagesprep\n",
    "mkdir imagesprep/train\n",
    "mkdir imagesprep/train/0\n",
    "mkdir imagesprep/train/1\n",
    "mkdir imagesprep/test\n",
    "mkdir imagesprep/test/0\n",
    "mkdir imagesprep/test/1\n",
    "\n",
    "i=0\n",
    "for file in `find images` -name \".png\"; do \n",
    "    ((i++))\n",
    "    if ! ((i % 10 == 0)); then \n",
    "        if [[ $file == *\"class0.png\"* ]]; then \n",
    "            cp $file imagesprep/train/0/\n",
    "        elif [[ $file == *\"class1.png\"* ]]; then \n",
    "            cp $file imagesprep/train/1/\n",
    "        fi\n",
    "    else \n",
    "        if [[ $file == *\"class0.png\"* ]]; then \n",
    "            cp $file imagesprep/test/0/\n",
    "        elif [[ $file == *\"class1.png\"* ]]; then \n",
    "            cp $file imagesprep/test/1/\n",
    "        fi\n",
    "    fi\n",
    "done"
   ]
  },
  {
   "cell_type": "code",
   "execution_count": null,
   "metadata": {},
   "outputs": [],
   "source": [
    "from PIL import Image\n",
    "import numpy as np\n",
    "import zipfile\n",
    "from os import walk\n",
    "import pandas as pd\n",
    "import matplotlib.pyplot as plt\n",
    "%matplotlib inline\n",
    "\n",
    "from sklearn.model_selection import train_test_split\n",
    "\n",
    "import keras\n",
    "from math import ceil\n",
    "from keras.preprocessing.image import ImageDataGenerator\n",
    "from keras.applications import ResNet50\n",
    "from keras.applications.resnet50 import preprocess_input\n",
    "from keras.callbacks import EarlyStopping\n",
    "from keras import Model, layers\n",
    "from keras.models import load_model, model_from_json"
   ]
  },
  {
   "cell_type": "markdown",
   "metadata": {},
   "source": [
    "## 2. Prepare the Images"
   ]
  },
  {
   "cell_type": "code",
   "execution_count": null,
   "metadata": {},
   "outputs": [],
   "source": [
    "train_datagen = ImageDataGenerator(\n",
    "    shear_range=10,\n",
    "    zoom_range=0.2,\n",
    "    horizontal_flip=True,\n",
    "    preprocessing_function=preprocess_input)\n",
    "\n",
    "train_generator = train_datagen.flow_from_directory(\n",
    "    'imagesprep/train',\n",
    "    batch_size=32,\n",
    "    class_mode='binary',\n",
    "    target_size=(50,50))\n",
    "\n",
    "validation_datagen = ImageDataGenerator(\n",
    "    preprocessing_function=preprocess_input)\n",
    "\n",
    "##brauch dann ein update auf das val set!!\n",
    "validation_generator = validation_datagen.flow_from_directory(\n",
    "    'imagesprep/test',\n",
    "    shuffle=False,\n",
    "    class_mode='binary',\n",
    "    target_size=(50,50))"
   ]
  },
  {
   "cell_type": "code",
   "execution_count": null,
   "metadata": {},
   "outputs": [],
   "source": [
    "conv_base = ResNet50(\n",
    "    include_top=False,\n",
    "    weights='imagenet')\n",
    "\n",
    "for layer in conv_base.layers:\n",
    "    layer.trainable = False"
   ]
  },
  {
   "cell_type": "markdown",
   "metadata": {},
   "source": [
    "## 3. Create a CNN (based on ResNet50)"
   ]
  },
  {
   "cell_type": "code",
   "execution_count": null,
   "metadata": {},
   "outputs": [],
   "source": [
    "x = conv_base.output\n",
    "x = layers.GlobalAveragePooling2D()(x)\n",
    "x = layers.Dense(128, activation='relu')(x) \n",
    "predictions = layers.Dense(2, activation='softmax')(x)\n",
    "model = Model(conv_base.input, predictions)"
   ]
  },
  {
   "cell_type": "code",
   "execution_count": null,
   "metadata": {},
   "outputs": [],
   "source": [
    "optimizer = keras.optimizers.Adam()\n",
    "model.compile(loss='sparse_categorical_crossentropy',\n",
    "              optimizer=optimizer,\n",
    "              metrics=['accuracy'])"
   ]
  },
  {
   "cell_type": "markdown",
   "metadata": {},
   "source": [
    "## 4. Train"
   ]
  },
  {
   "cell_type": "code",
   "execution_count": null,
   "metadata": {},
   "outputs": [],
   "source": [
    "history = model.fit_generator(generator=train_generator,\n",
    "                              #steps_per_epoch = 4, # nur für dry run da ja gar nich alles berücksichtigt wird\n",
    "                              steps_per_epoch=ceil(249762/ 32),  \n",
    "                              epochs=5,\n",
    "                              validation_data=validation_generator,\n",
    "                              validation_steps= 25,\n",
    "                              #callbacks = [EarlyStopping(monitor='val_loss', patience=3)]\n",
    "                             )"
   ]
  },
  {
   "cell_type": "code",
   "execution_count": null,
   "metadata": {},
   "outputs": [],
   "source": [
    "print(history.history.keys())"
   ]
  },
  {
   "cell_type": "code",
   "execution_count": null,
   "metadata": {},
   "outputs": [],
   "source": [
    "plt.figure(1, figsize = (15,8)) \n",
    "    \n",
    "plt.subplot(221)  \n",
    "plt.plot(history.history['acc'])  \n",
    "plt.plot(history.history['val_acc'])  \n",
    "plt.title('model accuracy')  \n",
    "plt.ylabel('accuracy')  \n",
    "plt.xlabel('epoch')  \n",
    "plt.legend(['train', 'valid']) \n",
    "    \n",
    "plt.subplot(222)  \n",
    "plt.plot(history.history['loss'])  \n",
    "plt.plot(history.history['val_loss'])  \n",
    "plt.title('model loss')  \n",
    "plt.ylabel('loss')  \n",
    "plt.xlabel('epoch')  \n",
    "plt.legend(['train', 'valid']) \n",
    "\n",
    "plt.show()"
   ]
  },
  {
   "cell_type": "code",
   "execution_count": null,
   "metadata": {},
   "outputs": [],
   "source": []
  }
 ],
 "metadata": {
  "kernelspec": {
   "display_name": "Python 3.6",
   "language": "python",
   "name": "python3"
  },
  "language_info": {
   "codemirror_mode": {
    "name": "ipython",
    "version": 3
   },
   "file_extension": ".py",
   "mimetype": "text/x-python",
   "name": "python",
   "nbconvert_exporter": "python",
   "pygments_lexer": "ipython3",
   "version": "3.6.8"
  }
 },
 "nbformat": 4,
 "nbformat_minor": 1
}
