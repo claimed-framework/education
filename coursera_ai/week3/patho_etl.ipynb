{
 "cells": [
  {
   "cell_type": "code",
   "execution_count": null,
   "metadata": {},
   "outputs": [],
   "source": [
    "!if [ -f IDC_regular_ps50_idx5.zip ]; then echo \"images already downloaded\"; else wget http://andrewjanowczyk.com/wp-static/IDC_regular_ps50_idx5.zip; fi\n",
    "!if [ -d images ]; then echo \"images folder already created\"; else echo \"creating images folder and unzipping \"; mkdir images;  unzip IDC_regular_ps50_idx5.zip -d images/ ; fi\n"
   ]
  },
  {
   "cell_type": "code",
   "execution_count": null,
   "metadata": {},
   "outputs": [],
   "source": [
    "%%bash\n",
    "mkdir imagesprep\n",
    "mkdir imagesprep/train\n",
    "mkdir imagesprep/train/0\n",
    "mkdir imagesprep/train/1\n",
    "mkdir imagesprep/test\n",
    "mkdir imagesprep/test/0\n",
    "mkdir imagesprep/test/1\n",
    "\n",
    "i=0\n",
    "for file in `find images` -name \".png\"; do \n",
    "    ((i++))\n",
    "    if ! ((i % 10 == 0)); then \n",
    "        if [[ $file == *\"class0.png\"* ]]; then \n",
    "            cp $file imagesprep/train/0/\n",
    "        elif [[ $file == *\"class1.png\"* ]]; then \n",
    "            cp $file imagesprep/train/1/\n",
    "        fi\n",
    "    else \n",
    "        if [[ $file == *\"class0.png\"* ]]; then \n",
    "            cp $file imagesprep/test/0/\n",
    "        elif [[ $file == *\"class1.png\"* ]]; then \n",
    "            cp $file imagesprep/test/1/\n",
    "        fi\n",
    "    fi\n",
    "done"
   ]
  }
 ],
 "metadata": {
  "kernelspec": {
   "display_name": "Python 3.6",
   "language": "python",
   "name": "python3"
  },
  "language_info": {
   "codemirror_mode": {
    "name": "ipython",
    "version": 3
   },
   "file_extension": ".py",
   "mimetype": "text/x-python",
   "name": "python",
   "nbconvert_exporter": "python",
   "pygments_lexer": "ipython3",
   "version": "3.6.8"
  }
 },
 "nbformat": 4,
 "nbformat_minor": 1
}
