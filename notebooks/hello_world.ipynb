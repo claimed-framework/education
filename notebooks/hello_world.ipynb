{
 "cells": [
  {
   "cell_type": "code",
   "execution_count": null,
   "id": "813d8aa3-0366-4caa-bed1-cc90ea328bd0",
   "metadata": {},
   "outputs": [],
   "source": [
    "print('hello world')"
   ]
  },
  {
   "cell_type": "code",
   "execution_count": null,
   "id": "59e84db8-684a-428e-86ee-3f9d4ebc6095",
   "metadata": {},
   "outputs": [],
   "source": [
    "import sys\n",
    "print(\"hello error\", file=sys.stderr)"
   ]
  },
  {
   "cell_type": "code",
   "execution_count": null,
   "id": "caf4c05d-032e-47af-9c36-b46e4bd2933a",
   "metadata": {},
   "outputs": [],
   "source": [
    "for arg in sys.argv:\n",
    "    print(arg)"
   ]
  },
  {
   "cell_type": "code",
   "execution_count": null,
   "id": "9eb44154-06dc-4f70-8d30-b4d6e485829f",
   "metadata": {},
   "outputs": [],
   "source": [
    "import os\n",
    "for en in os.environ:\n",
    "    print(en)"
   ]
  }
 ],
 "metadata": {
  "kernelspec": {
   "display_name": "Python 3 (ipykernel)",
   "language": "python",
   "name": "python3"
  },
  "language_info": {
   "codemirror_mode": {
    "name": "ipython",
    "version": 3
   },
   "file_extension": ".py",
   "mimetype": "text/x-python",
   "name": "python",
   "nbconvert_exporter": "python",
   "pygments_lexer": "ipython3",
   "version": "3.9.6"
  }
 },
 "nbformat": 4,
 "nbformat_minor": 5
}
