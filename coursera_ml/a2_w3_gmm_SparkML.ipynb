{
 "cells": [
  {
   "cell_type": "markdown",
   "metadata": {},
   "source": [
    "This notebook is designed to run in a IBM Watson Studio Apache Spark runtime. In case you are running it in an IBM Watson Studio standard runtime or outside Watson Studio, we install Apache Spark in local mode for test purposes only. Please don't use it in production."
   ]
  },
  {
   "cell_type": "code",
   "execution_count": null,
   "metadata": {},
   "outputs": [],
   "source": [
    "!pip install --upgrade pip"
   ]
  },
  {
   "cell_type": "code",
   "execution_count": null,
   "metadata": {},
   "outputs": [],
   "source": [
    "if not ('sc' in locals() or 'sc' in globals()):\n",
    "    print('It seems you are note running in a IBM Watson Studio Apache Spark Notebook. You might be running in a IBM Watson Studio Default Runtime or outside IBM Waston Studio. Therefore installing local Apache Spark environment for you. Please do not use in Production')\n",
    "    \n",
    "    from pip import main\n",
    "    main(['install', 'pyspark==2.4.5'])\n",
    "    \n",
    "    from pyspark import SparkContext, SparkConf\n",
    "    from pyspark.sql import SparkSession\n",
    "\n",
    "    sc = SparkContext.getOrCreate(SparkConf().setMaster(\"local[*]\"))\n",
    "    \n",
    "    spark = SparkSession \\\n",
    "        .builder \\\n",
    "        .getOrCreate()"
   ]
  },
  {
   "cell_type": "markdown",
   "metadata": {},
   "source": [
    "\n",
    "\n",
    "In case you want to learn how ETL is done, please run the following notebook first and update the file name below accordingly\n",
    "\n",
    "https://github.com/IBM/coursera/blob/master/coursera_ml/a2_w1_s3_ETL.ipynb\n"
   ]
  },
  {
   "cell_type": "code",
   "execution_count": 1,
   "metadata": {},
   "outputs": [],
   "source": [
    "# delete files from previous runs\n",
    "!rm -f hmp.parquet*\n",
    "\n",
    "# download the file containing the data in PARQUET format\n",
    "!wget https://github.com/IBM/coursera/raw/master/hmp.parquet\n",
    "    \n",
    "# create a dataframe out of it\n",
    "df = spark.read.parquet('hmp.parquet')\n",
    "\n",
    "# register a corresponding query table\n",
    "df.createOrReplaceTempView('df')"
   ]
  },
  {
   "cell_type": "code",
   "execution_count": 2,
   "metadata": {},
   "outputs": [],
   "source": [
    "from pyspark.ml.feature import VectorAssembler\n",
    "\n",
    "vectorAssembler = VectorAssembler(inputCols=[\"x\",\"y\",\"z\"],\n",
    "                                  outputCol=\"features\")"
   ]
  },
  {
   "cell_type": "code",
   "execution_count": 4,
   "metadata": {},
   "outputs": [],
   "source": [
    "from pyspark.ml.clustering import GaussianMixture"
   ]
  },
  {
   "cell_type": "code",
   "execution_count": 5,
   "metadata": {},
   "outputs": [],
   "source": [
    "gmm = GaussianMixture().setK(7).setSeed(538009335)"
   ]
  },
  {
   "cell_type": "code",
   "execution_count": 6,
   "metadata": {},
   "outputs": [],
   "source": [
    "from pyspark.ml import Pipeline\n",
    "pipeline = Pipeline(stages=[vectorAssembler, gmm])"
   ]
  },
  {
   "cell_type": "code",
   "execution_count": 7,
   "metadata": {},
   "outputs": [],
   "source": [
    "model = pipeline.fit(df)"
   ]
  },
  {
   "cell_type": "code",
   "execution_count": 9,
   "metadata": {},
   "outputs": [
    {
     "name": "stdout",
     "output_type": "stream",
     "text": [
      "+----------------------------------------------------------+-----------------------------------------------------------------------------------------------------------------------------------------------------------------------------------------------------+\n",
      "|mean                                                      |cov                                                                                                                                                                                                  |\n",
      "+----------------------------------------------------------+-----------------------------------------------------------------------------------------------------------------------------------------------------------------------------------------------------+\n",
      "|[27.084945199820922,28.228590117170736,49.715704095485954]|37.501555112400496   -18.666543865153265  2.0816745935291414  \n",
      "-18.666543865153265  44.62732894901293    11.027542948752657  \n",
      "2.0816745935291414   11.027542948752657   8.593274758985876            |\n",
      "|[16.398660837468736,41.366038799675415,37.15768029922695] |56.74018127622099   21.131395690852703  14.600429643170562  \n",
      "21.131395690852703  43.8289747121033    5.524721096969893   \n",
      "14.600429643170562  5.524721096969893   33.569633573404815                 |\n",
      "|[32.6926859540442,44.32419311736936,48.02367201257901]    |24.570512157272876    -0.5685250690538473  -0.08151276683225563  \n",
      "-0.5685250690538473   14.932214637271787   -8.547241160363813    \n",
      "-0.08151276683225563  -8.547241160363813   7.672506825493808     |\n",
      "|[37.48501982919006,38.911057494917394,38.46339881946252]  |108.83376295619333   -25.734918953426877  12.035227591373511  \n",
      "-25.734918953426877  236.3059729991175    -59.08498279316592  \n",
      "12.035227591373511   -59.08498279316592   108.15247803480777           |\n",
      "|[42.721245165011176,32.47162169989081,49.398585989935576] |14.799341796443409   -2.1765837291501207  -8.737751430673812  \n",
      "-2.1765837291501207  18.986732090335558   0.8101181732476425  \n",
      "-8.737751430673812   0.8101181732476425   6.569023644920174            |\n",
      "|[32.38469493821846,37.2156378298931,52.08972289388928]    |5.9055495517731575   1.2642962493626289   -0.2734868021732719  \n",
      "1.2642962493626289   7.933135293721825    -1.4259953395432046  \n",
      "-0.2734868021732719  -1.4259953395432046  0.7091628546564646         |\n",
      "|[12.856192377368503,36.99385364086351,34.52147364975312]  |2.8494437948884466   0.41242246566958    0.09324814030753192  \n",
      "0.41242246566958     5.566534393696339   0.3183604055135765   \n",
      "0.09324814030753192  0.3183604055135765  4.837097409070237             |\n",
      "+----------------------------------------------------------+-----------------------------------------------------------------------------------------------------------------------------------------------------------------------------------------------------+\n",
      "\n"
     ]
    }
   ],
   "source": [
    "model.stages[1].gaussiansDF.show(truncate=False)"
   ]
  }
 ],
 "metadata": {
  "kernelspec": {
   "display_name": "Python 3",
   "language": "python",
   "name": "python3"
  },
  "language_info": {
   "codemirror_mode": {
    "name": "ipython",
    "version": 3
   },
   "file_extension": ".py",
   "mimetype": "text/x-python",
   "name": "python",
   "nbconvert_exporter": "python",
   "pygments_lexer": "ipython3",
   "version": "3.7.4"
  }
 },
 "nbformat": 4,
 "nbformat_minor": 4
}
